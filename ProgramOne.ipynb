{
  "nbformat": 4,
  "nbformat_minor": 0,
  "metadata": {
    "colab": {
      "name": "Copy of programming_drill_1.ipynb",
      "provenance": [],
      "collapsed_sections": [],
      "include_colab_link": true
    },
    "kernelspec": {
      "name": "python3",
      "display_name": "Python 3"
    }
  },
  "cells": [
    {
      "cell_type": "markdown",
      "metadata": {
        "id": "view-in-github",
        "colab_type": "text"
      },
      "source": [
        "<a href=\"https://colab.research.google.com/github/dark-syndrome/first/blob/master/Copy_of_programming_drill_1.ipynb\" target=\"_parent\"><img src=\"https://colab.research.google.com/assets/colab-badge.svg\" alt=\"Open In Colab\"/></a>"
      ]
    },
    {
      "cell_type": "markdown",
      "metadata": {
        "id": "GNJbDM4HV9J8",
        "colab_type": "text"
      },
      "source": [
        "1. Write exercises into this notebook. \n",
        "2. Run the exercises you wrote. Make sure they match the expected output.\n",
        "3. Fix them when they are broken. \n",
        "4. Repeat."
      ]
    },
    {
      "cell_type": "markdown",
      "metadata": {
        "id": "QoXNSVtrVgvb",
        "colab_type": "text"
      },
      "source": [
        "## Drill #1 - Intro to print<br>\n",
        "<img src=\"https://drive.google.com/uc?id=1HCwzFtQKoV3fZYK4_Eo9P-CApIL8geQi\" width=\"300\"> \n",
        "#### Expected output\n",
        "<img src=\"https://drive.google.com/uc?id=1tAXjMEO7BBHLZepK1Zgiy1G6S1NHCPKY\" width=\"200\">\n"
      ]
    },
    {
      "cell_type": "code",
      "metadata": {
        "id": "3O3pXk93BMlV",
        "colab_type": "code",
        "colab": {
          "base_uri": "https://localhost:8080/",
          "height": 118
        },
        "outputId": "13cbab70-2e5a-4c8a-dc31-bcd44bf94a0b"
      },
      "source": [
        "## Write your code here\n",
        "print(\"Hello World!\")\n",
        "print(\"Hello Again\")\n",
        "print(\"This is an AI course\")\n",
        "print(\"This is fun\")\n",
        "print(\"It is 'apparently' illusory.\")\n",
        "print('He told me, \"you got this!\" ')"
      ],
      "execution_count": 2,
      "outputs": [
        {
          "output_type": "stream",
          "text": [
            "Hello World!\n",
            "Hello Again\n",
            "This is an AI course\n",
            "This is fun\n",
            "It is 'apparently' illusory.\n",
            "He told me, \"you got this!\" \n"
          ],
          "name": "stdout"
        }
      ]
    },
    {
      "cell_type": "markdown",
      "metadata": {
        "id": "1dq3VrP8Xil8",
        "colab_type": "text"
      },
      "source": [
        "#### 1.2 Make your script print another line"
      ]
    },
    {
      "cell_type": "code",
      "metadata": {
        "id": "558jwU0CCHYG",
        "colab_type": "code",
        "colab": {
          "base_uri": "https://localhost:8080/",
          "height": 34
        },
        "outputId": "ab774e04-ffe6-4a29-8dfa-8c5c483e72a0"
      },
      "source": [
        "## Write your code here\n",
        "print(\"Hello World!\")\n",
        "print(\"Hello Again\")\n",
        "print(\"This is an AI course\")\n",
        "print(\"This is fun\")\n",
        "print(\"It is 'apparently' illusory.\")\n",
        "print('He told me, \"you got this!\" ')\n",
        "print(\"yeah! I am getting a knack of it\")"
      ],
      "execution_count": 3,
      "outputs": [
        {
          "output_type": "stream",
          "text": [
            "yeah! I am getting a knack of it\n"
          ],
          "name": "stdout"
        }
      ]
    },
    {
      "cell_type": "markdown",
      "metadata": {
        "id": "MCra17UCXslF",
        "colab_type": "text"
      },
      "source": [
        "# Drill #2 - Comments <br>\n",
        "<img src=\"https://drive.google.com/uc?id=1SUDq-JoqLdajc03i9Ag76GIpTUeJliW1\" width=\"500\">\n",
        "\n",
        "#### Expected Output\n",
        "<img src=\"https://drive.google.com/uc?id=1ym7NnsNgRJJ6gKsM0IIu1mA7PC63Kb9T\" width=\"250\">"
      ]
    },
    {
      "cell_type": "code",
      "metadata": {
        "id": "19pWn_d0Xrad",
        "colab_type": "code",
        "colab": {
          "base_uri": "https://localhost:8080/",
          "height": 50
        },
        "outputId": "50e1c3bf-66d1-4791-b14b-a4e73c619b9a"
      },
      "source": [
        "# A comment, this is so you can read your program later.\n",
        "# Anything after the # is ignored by python.\n",
        "\n",
        "print(\"I could have code like this.\") # and the comment after is ignored\n",
        "\n",
        "# You can also use a comment to \"disable\" or comment out code:\n",
        "# print(\"This won't run.\")\n",
        "\n",
        "print(\"This will run.\")"
      ],
      "execution_count": 4,
      "outputs": [
        {
          "output_type": "stream",
          "text": [
            "I could have code like this.\n",
            "This will run.\n"
          ],
          "name": "stdout"
        }
      ]
    },
    {
      "cell_type": "markdown",
      "metadata": {
        "id": "gvjj1NTNaFeN",
        "colab_type": "text"
      },
      "source": [
        "### 2.1 \n",
        "Start at the last line, and check each word in reverse against what you should have typed. If you find more mistakes, fix them. (This is a trick to make sure you do not attach meaning to any part of code and are able to look at each piece exactly. It is a handy trick to catch errors)"
      ]
    },
    {
      "cell_type": "code",
      "metadata": {
        "id": "aCNK7PxIXzDX",
        "colab_type": "code",
        "colab": {
          "base_uri": "https://localhost:8080/",
          "height": 34
        },
        "outputId": "0152601e-eefa-4966-fb22-6d963426167f"
      },
      "source": [
        "## Write your code here\n",
        "print('checked code, no mistakes found.')"
      ],
      "execution_count": 5,
      "outputs": [
        {
          "output_type": "stream",
          "text": [
            "checked code, no mistakes found.\n"
          ],
          "name": "stdout"
        }
      ]
    },
    {
      "cell_type": "markdown",
      "metadata": {
        "id": "myAZjSq4awLj",
        "colab_type": "text"
      },
      "source": [
        "### 2.2 \n",
        "Read what you typed above out loud, including saying each character by its name. If you find more mistakes, fix them."
      ]
    },
    {
      "cell_type": "code",
      "metadata": {
        "id": "fKX_ltdFZhgu",
        "colab_type": "code",
        "colab": {}
      },
      "source": [
        "## Write your code here\n",
        "print(\"Read the code out loud, no mistakes found.\")"
      ],
      "execution_count": 0,
      "outputs": []
    },
    {
      "cell_type": "markdown",
      "metadata": {
        "id": "SVIoH6EE1ZoH",
        "colab_type": "text"
      },
      "source": [
        "# Drill #3 - Mathematical operations\n",
        "Type in the following code exactly before you run it. <br><br>\n",
        "<img src=\"https://drive.google.com/uc?id=1FvLTSNJ84Da_KHSczhxg0Q0Wgf7Z3DDa\" width=\"400\"><br>\n",
        "#### Expected Output\n",
        "<img src=\"https://drive.google.com/uc?id=1NulYhDSBqL3-7EzbYwSl5RaHHaZIvB73\" width=\"200\">"
      ]
    },
    {
      "cell_type": "code",
      "metadata": {
        "id": "4mGB9iw_1cP5",
        "colab_type": "code",
        "colab": {
          "base_uri": "https://localhost:8080/",
          "height": 218
        },
        "outputId": "7f850de6-37d4-44b2-9868-7217431547ac"
      },
      "source": [
        "print(\"I will count the number of fruits:\")\n",
        "\n",
        "print(\"Apples\", 34 + 26/2)\n",
        "print(\"Mangoes\", 100 - 25 * 3 % 4)\n",
        "\n",
        "print(\"Now I will count the vegetables:\")\n",
        "print(3 + 2 + 1 - 5 + 4 % 2 - 1 / 4 + 6)\n",
        "\n",
        "print(\"Is it true that 3 + 2 < 5 - 7?\")\n",
        "\n",
        "print(3 + 2 < 5 - 7)\n",
        "\n",
        "print(\"What is 3*2?\", 3 * 2)\n",
        "print(\"What is 5 - 7?\", 5 - 7)\n",
        "\n",
        "print(\"Is it greater?\", 5 > -2)\n",
        "print(\"Is it greater or equal?\", 5 >= -2)\n",
        "print(\"Is it less or equal?\", 5 <= -2)"
      ],
      "execution_count": 9,
      "outputs": [
        {
          "output_type": "stream",
          "text": [
            "I will count the number of fruits:\n",
            "Apples 47.0\n",
            "Mangoes 97\n",
            "Now I will count the vegetables:\n",
            "6.75\n",
            "Is it true that 3 + 2 < 5 - 7?\n",
            "False\n",
            "What is 3*2? 6\n",
            "What is 5 - 7? -2\n",
            "Is it greater? True\n",
            "Is it greater or equal? True\n",
            "Is it less or equal? False\n"
          ],
          "name": "stdout"
        }
      ]
    },
    {
      "cell_type": "markdown",
      "metadata": {
        "id": "70z8KFY84v7K",
        "colab_type": "text"
      },
      "source": [
        "### 3.1 \n",
        "Find something you need to calculate and write the code that does it."
      ]
    },
    {
      "cell_type": "code",
      "metadata": {
        "id": "bSWEB1vV3JvF",
        "colab_type": "code",
        "colab": {
          "base_uri": "https://localhost:8080/",
          "height": 34
        },
        "outputId": "0755c118-9367-46eb-d684-efa038319351"
      },
      "source": [
        "## Write your code \n",
        "# code to calculate the speed of a vehicle\n",
        "distance = 90\n",
        "time = 50\n",
        "print(\"The speed at which a distance of 90 metres is covered in 50 seconds is: \", distance/time)"
      ],
      "execution_count": 14,
      "outputs": [
        {
          "output_type": "stream",
          "text": [
            "The speed at which a distance of 90 metres is covered in 50 seconds is:  1.8\n"
          ],
          "name": "stdout"
        }
      ]
    },
    {
      "cell_type": "markdown",
      "metadata": {
        "id": "TE_URpDk5IZg",
        "colab_type": "text"
      },
      "source": [
        "### 3.2 \n",
        "You can use parentheses to change the order of operations. For eg., 2 + (3 * 5) is different from (2 + 3)*5. <br> Play with parentheses to see how the results change."
      ]
    },
    {
      "cell_type": "code",
      "metadata": {
        "id": "-H6gAYG55qBj",
        "colab_type": "code",
        "colab": {
          "base_uri": "https://localhost:8080/",
          "height": 67
        },
        "outputId": "20206742-4b6c-4d3e-d50d-2bca2bad51fa"
      },
      "source": [
        "## Write your code here\n",
        "# Working with different positioning of parentheses\n",
        "print(\"Age of Rahul is:\", 5 + 3 * 10)\n",
        "print(\"Age of Rahul is:\", (5 + 3) * 10)\n",
        "print(\"Thus changing the position of parentheses changes Rahul's age dramatically.\")"
      ],
      "execution_count": 18,
      "outputs": [
        {
          "output_type": "stream",
          "text": [
            "Age of Rahul is: 35\n",
            "Age of Rahul is: 80\n",
            "Thus changing the position of parentheses changes Rahul's age dramatically.\n"
          ],
          "name": "stdout"
        }
      ]
    },
    {
      "cell_type": "markdown",
      "metadata": {
        "id": "AMRJ75_JY8Ep",
        "colab_type": "text"
      },
      "source": [
        "#Drill #4 - Variables\n",
        "<img src=\"https://drive.google.com/uc?id=1k2pTmgJ6pwKqC8xY9GQg83qfKry8TUci\" width=\"400\">\n",
        "\n",
        "### Expected Output\n",
        "<img src=\"https://drive.google.com/uc?id=1GjRjri4bjr7rEgq8hKwZ2fWDH6ld3EOU\" width=\"300\">"
      ]
    },
    {
      "cell_type": "markdown",
      "metadata": {
        "id": "A5j13VELdoV9",
        "colab_type": "text"
      },
      "source": [
        "###4.1 \n",
        "Check what happens if you use 50.0 instead of 50 for capacity_classroom. (Decimal numbers such as 50.0 are called floating point numbers)\n"
      ]
    },
    {
      "cell_type": "code",
      "metadata": {
        "id": "1x0QH2NecBEc",
        "colab_type": "code",
        "colab": {
          "base_uri": "https://localhost:8080/",
          "height": 101
        },
        "outputId": "d0168dc7-2d37-438b-f528-e93f82ae91ff"
      },
      "source": [
        "### Write your code here\n",
        "classrooms = 20\n",
        "capacity_classrooms = 50.0\n",
        "students = 250\n",
        "teachers = 30\n",
        "max_students = classrooms*capacity_classrooms\n",
        "classrooms_not_used = classrooms - students/capacity_classrooms\n",
        "average_students_per_teacher = students / teachers\n",
        "\n",
        "print(\"There are \", classrooms,\"classroooms available\")\n",
        "print(\"There are only\", students, \"students avaialable\")\n",
        "print(\"A maximum of \", max_students, \"students can be accomodated in the school\")\n",
        "print(\"There are \", teachers, \"teachers available to teach\")\n",
        "print(\"Every teacher takes care of about\", average_students_per_teacher, \"students\")\n"
      ],
      "execution_count": 20,
      "outputs": [
        {
          "output_type": "stream",
          "text": [
            "There are  20 classroooms available\n",
            "There are only 250 students avaialable\n",
            "A maximum of  1000.0 students can be accomodated in the school\n",
            "There are  30 teachers available to teach\n",
            "Every teacher takes care of about 8.333333333333334 students\n"
          ],
          "name": "stdout"
        }
      ]
    },
    {
      "cell_type": "markdown",
      "metadata": {
        "id": "Lf5cNYOBh1dz",
        "colab_type": "text"
      },
      "source": [
        "###4.2\n",
        "Add a comment before each line in the code to describe what that line of code is doing in plain english."
      ]
    },
    {
      "cell_type": "code",
      "metadata": {
        "id": "AYE9BvA5cTxC",
        "colab_type": "code",
        "colab": {}
      },
      "source": [
        "### Write your code here\n",
        "classrooms = 20                                                 #This line is declaring a variable classrooms\n",
        "capacity_classrooms = 50.0                                      #This line is declaring a variable  for capacity of classrooms\n",
        "students = 250                                                  #This line is declaring a variable for number of students\n",
        "teachers = 30                                                   #This line is declaring a variable for the number of teachers\n",
        "max_students = classrooms*capacity_classrooms                   #This line is declaring a variable for maximum students\n",
        "classrooms_not_used = classrooms - students/capacity_classrooms #This line is declaring a variable for classrooms not used\n",
        "average_students_per_teacher = students / teachers              #This line is declaring a variable for the average number of students a teacher has\n",
        "\n",
        "print(\"There are \", classrooms,\"classroooms available\")\n",
        "print(\"There are only\", students, \"students avaialable\")\n",
        "print(\"A maximum of \", max_students, \"students can be accomodated in the school\")\n",
        "print(\"There are \", teachers, \"teachers available to teach\")\n",
        "print(\"Every teacher takes care of about\", average_students_per_teacher, \"students\")\n"
      ],
      "execution_count": 0,
      "outputs": []
    }
  ]
}
